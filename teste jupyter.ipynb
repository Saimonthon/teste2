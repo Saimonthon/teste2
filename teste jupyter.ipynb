{
 "cells": [
  {
   "cell_type": "markdown",
   "source": [
    "## TESTE"
   ],
   "metadata": {}
  },
  {
   "cell_type": "code",
   "execution_count": 9,
   "source": [
    "print('Hello World')"
   ],
   "outputs": [
    {
     "output_type": "stream",
     "name": "stdout",
     "text": [
      "Hello World\n"
     ]
    }
   ],
   "metadata": {}
  },
  {
   "cell_type": "code",
   "execution_count": 14,
   "source": [
    "import pandas as pd\r\n",
    "\r\n",
    "df = {'coluna 1':['a','b','c','d'],'Coluna 2':[1,2,3,4]}\r\n",
    "\r\n",
    "df=pd.DataFrame(df)\r\n",
    "\r\n",
    "print(df)\r\n",
    "\r\n"
   ],
   "outputs": [
    {
     "output_type": "stream",
     "name": "stdout",
     "text": [
      "  coluna 1  Coluna 2\n",
      "0        a         1\n",
      "1        b         2\n",
      "2        c         3\n",
      "3        d         4\n"
     ]
    }
   ],
   "metadata": {}
  }
 ],
 "metadata": {
  "orig_nbformat": 4,
  "language_info": {
   "name": "python",
   "version": "3.8.8",
   "mimetype": "text/x-python",
   "codemirror_mode": {
    "name": "ipython",
    "version": 3
   },
   "pygments_lexer": "ipython3",
   "nbconvert_exporter": "python",
   "file_extension": ".py"
  },
  "kernelspec": {
   "name": "python3",
   "display_name": "Python 3.8.8 64-bit ('base': conda)"
  },
  "interpreter": {
   "hash": "1001874453a08f39eee19407095cc59b72d37dd17f8d8ff5f8989bf445fc80ba"
  }
 },
 "nbformat": 4,
 "nbformat_minor": 2
}